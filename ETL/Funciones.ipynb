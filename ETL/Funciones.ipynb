{
 "cells": [
  {
   "cell_type": "code",
   "execution_count": 3,
   "id": "a1180d6b-db45-43ce-9876-3600b7634d76",
   "metadata": {},
   "outputs": [],
   "source": [
    "import pandas as pd"
   ]
  },
  {
   "cell_type": "code",
   "execution_count": 4,
   "id": "2f3d6842-eab3-43b5-86e8-c22dab9f4e44",
   "metadata": {},
   "outputs": [],
   "source": [
    "# Diccionario de meses en español e inglés\n",
    "meses_dict = {\n",
    "    \"enero\": \"January\",\n",
    "    \"febrero\": \"February\",\n",
    "    \"marzo\": \"March\",\n",
    "    \"abril\": \"April\",\n",
    "    \"mayo\": \"May\",\n",
    "    \"junio\": \"June\",\n",
    "    \"julio\": \"July\",\n",
    "    \"agosto\": \"August\",\n",
    "    \"septiembre\": \"September\",\n",
    "    \"octubre\": \"October\",\n",
    "    \"noviembre\": \"November\",\n",
    "    \"diciembre\": \"December\"\n",
    "}\n",
    "\n",
    "# Función para calcular la cantidad de filmaciones en un mes determinado\n",
    "def cantidad_filmaciones_mes(mes:str):\n",
    "    # Definición de la variable DOWNLOAD_ROOT que contiene la URL base\n",
    "    DOWNLOAD_ROOT = \"https://raw.githubusercontent.com/Andresma9601/Proyecto_ML_HENRY/main/\"\n",
    "    # Ruta relativa del archivo CSV\n",
    "    df_dia=\"db_movies/Dias.csv\"\n",
    "    # Combinar la URL base y la ruta relativa para obtener la URL completa del archivo CSV\n",
    "    csv_path=DOWNLOAD_ROOT + df_dia\n",
    "    # Leer el archivo CSV desde la URL completa utilizando la función read_csv de Pandas\n",
    "    df_dia=pd.read_csv(csv_path)\n",
    "    # Convertir de str a datetime\n",
    "    df_dia[\"release_date\"]=df_dia['release_date'] = pd.to_datetime(df_dia[\"release_date\"])\n",
    "    # Convierte el mes a minúsculas para que coincida con los datos del DataFrame\n",
    "    mes = mes.lower()\n",
    "    # Verifica si el mes ingresado está en el diccionario\n",
    "    if mes in meses_dict:\n",
    "        mes_ingles = meses_dict[mes]\n",
    "        # Filtra las películas que fueron estrenadas en el mes consultado\n",
    "        filmaciones_mes = df_dia[\"release_date\"][df_dia[\"release_date\"].dt.month_name().str.lower() == mes_ingles.lower()]\n",
    "        # Obtiene la cantidad de filmaciones en el mes\n",
    "        cantidad = len(filmaciones_mes)\n",
    "        return f\"{cantidad} películas fueron estrenadas en el mes de {mes.capitalize()}\"\n",
    "    else:\n",
    "        return f\"no es un mes en español\""
   ]
  },
  {
   "cell_type": "code",
   "execution_count": 5,
   "id": "72cc8268-a51c-4c47-9d18-2b762dc961da",
   "metadata": {},
   "outputs": [
    {
     "data": {
      "text/plain": [
       "'3781 películas fueron estrenadas en el mes de Diciembre'"
      ]
     },
     "execution_count": 5,
     "metadata": {},
     "output_type": "execute_result"
    }
   ],
   "source": [
    "cantidad_filmaciones_mes(\"diciembre\")"
   ]
  },
  {
   "cell_type": "code",
   "execution_count": 6,
   "id": "0c735bb4-b3f7-4270-a702-1982899e31f9",
   "metadata": {},
   "outputs": [],
   "source": [
    "# Diccionario de dias en español e inglés\n",
    "dias_dict = {\n",
    "    \"lunes\": \"Monday\",\n",
    "    \"martes\": \"Tuesday\",\n",
    "    \"miercoles\": \"Wednesday\",\n",
    "    \"jueves\": \"Thursday\",\n",
    "    \"viernes\": \"Friday\",\n",
    "    \"sabado\": \"Saturday\",\n",
    "    \"domingo\": \"Sunday\"\n",
    "}\n",
    "\n",
    "def cantidad_filmaciones_dia(dia:str):\n",
    "    # Definición de la variable DOWNLOAD_ROOT que contiene la URL base\n",
    "    DOWNLOAD_ROOT = \"https://raw.githubusercontent.com/Andresma9601/Proyecto_ML_HENRY/main/\"\n",
    "    # Ruta relativa del archivo CSV\n",
    "    df_dia=\"db_movies/Dias.csv\"\n",
    "    # Combinar la URL base y la ruta relativa para obtener la URL completa del archivo CSV\n",
    "    csv_path=DOWNLOAD_ROOT + df_dia\n",
    "    # Leer el archivo CSV desde la URL completa utilizando la función read_csv de Pandas\n",
    "    df_dia=pd.read_csv(csv_path)\n",
    "    # Convertir de str a datetime\n",
    "    df_dia[\"release_date\"]=df_dia['release_date'] = pd.to_datetime(df_dia[\"release_date\"])\n",
    "    # Convierte el dia a minúsculas para que coincida con los datos del DataFrame\n",
    "    dia = dia.lower()\n",
    "    # Verifica si el dia ingresado está en el diccionario\n",
    "    if dia in dias_dict:\n",
    "        dia_ingles = dias_dict[dia]\n",
    "        # Filtra las películas que fueron estrenadas en el dia consultado\n",
    "        filmaciones_dia = df_dia[\"release_date\"][df_dia[\"release_date\"].dt.day_name().str.lower() == dia_ingles.lower()]\n",
    "        # Obtiene la cantidad de filmaciones en el dia\n",
    "        cantidad = len(filmaciones_dia)\n",
    "        return f\"{cantidad} de películas fueron estrenadas en los días {dia.capitalize()}\"\n",
    "    else:\n",
    "        return f\"no es un dia en español\""
   ]
  },
  {
   "cell_type": "code",
   "execution_count": 7,
   "id": "f570b93e-0701-43c5-8ef1-f24373590a3a",
   "metadata": {},
   "outputs": [
    {
     "data": {
      "text/plain": [
       "'3500 de películas fueron estrenadas en los días Lunes'"
      ]
     },
     "execution_count": 7,
     "metadata": {},
     "output_type": "execute_result"
    }
   ],
   "source": [
    "cantidad_filmaciones_dia(\"lunes\")"
   ]
  },
  {
   "cell_type": "code",
   "execution_count": 8,
   "id": "c6c7617b-cf90-4b7c-a86c-f1f42670d5bd",
   "metadata": {},
   "outputs": [],
   "source": [
    "def score_titulo(titulo_de_la_filmación:str):\n",
    "    # Definición de la variable DOWNLOAD_ROOT que contiene la URL base\n",
    "    DOWNLOAD_ROOT = \"https://raw.githubusercontent.com/Andresma9601/Proyecto_ML_HENRY/main/\"\n",
    "    # Ruta relativa del archivo CSV\n",
    "    df_score = \"db_movies/Score.csv\"\n",
    "    # Combinar la URL base y la ruta relativa para obtener la URL completa del archivo CSV\n",
    "    csv_path = DOWNLOAD_ROOT + df_score\n",
    "    # Leer el archivo CSV desde la URL completa utilizando la función read_csv de Pandas\n",
    "    df_score = pd.read_csv(csv_path)\n",
    "    # Convierte el título de la película a minúsculas\n",
    "    titulo_minuscula = titulo_de_la_filmación.lower()\n",
    "    # Itera sobre los títulos de las películas en el DataFrame movies_unique\n",
    "    for movie in df_score[\"title\"]:\n",
    "        # Convierte el título de la película actual a minúsculas\n",
    "        movie_minuscula = movie.lower()\n",
    "        # Verifica si hay una coincidencia entre los títulos\n",
    "        if movie_minuscula == titulo_minuscula:\n",
    "            # Filtra el DataFrame movies_unique para obtener los datos de la película encontrada\n",
    "            df = df_score\n",
    "            df = df.loc[df[\"title\"] == movie]\n",
    "            # Obtiene los datos específicos de la película encontrada\n",
    "            dato1 = df.iloc[0, 1]\n",
    "            dato2 = df.iloc[0, 2]\n",
    "            dato3 = df.iloc[0, 3]\n",
    "            # Retorna un mensaje con los datos de la película encontrada\n",
    "            return f\"La película {dato1} fue estrenada en el año {dato2} con un score/popularidad de {dato3}\"\n",
    "    # Retorna un mensaje indicando que no se encontró la película en la lista\n",
    "    return \"No es una película de esta lista\""
   ]
  },
  {
   "cell_type": "code",
   "execution_count": 9,
   "id": "f63a963b-a67b-447f-a718-a149768a3d71",
   "metadata": {},
   "outputs": [
    {
     "data": {
      "text/plain": [
       "'La película Robin Hood fue estrenada en el año 1973 con un score/popularidad de 11.179855'"
      ]
     },
     "execution_count": 9,
     "metadata": {},
     "output_type": "execute_result"
    }
   ],
   "source": [
    "score_titulo(\"robin hood\")"
   ]
  },
  {
   "cell_type": "code",
   "execution_count": 10,
   "id": "665c3b8c-1398-4247-9bc4-451ad28a47d4",
   "metadata": {},
   "outputs": [],
   "source": [
    "def votos_titulo(titulo_de_la_filmación:str):\n",
    "    # Definición de la variable DOWNLOAD_ROOT que contiene la URL base\n",
    "    DOWNLOAD_ROOT = \"https://raw.githubusercontent.com/Andresma9601/Proyecto_ML_HENRY/main/\"\n",
    "    # Ruta relativa del archivo CSV\n",
    "    df_votos=\"db_movies/Votos.csv\"\n",
    "    # Combinar la URL base y la ruta relativa para obtener la URL completa del archivo CSV\n",
    "    csv_path=DOWNLOAD_ROOT + df_votos\n",
    "    # Leer el archivo CSV desde la URL completa utilizando la función read_csv de Pandas\n",
    "    df_votos=pd.read_csv(csv_path)\n",
    "    # Convierte el título de la filmación a minúsculas\n",
    "    titulo_minuscula = titulo_de_la_filmación.lower()\n",
    "    # Itera sobre los títulos de películas únicos en la variable \"movies_unique\"\n",
    "    for movie in df_votos[\"title\"]:\n",
    "        # Convierte el título de la película actual a minúsculas\n",
    "        movie_minuscula = movie.lower()\n",
    "        # Verifica si el título de la película actual coincide con el título proporcionado\n",
    "        if movie_minuscula == titulo_minuscula:\n",
    "            # Crea un DataFrame con las columnas \"title\", \"vote_count\", \"vote_average\" y \"release_year\"\n",
    "            df = df_votos\n",
    "            # Filtra el DataFrame para obtener las filas con el título de la película actual\n",
    "            df = df.loc[df[\"title\"] == movie]\n",
    "            # Itera sobre los valores de \"vote_count\" en el DataFrame filtrado\n",
    "            for i in df[\"vote_count\"]:\n",
    "                # Verifica si el valor de \"vote_count\" es mayor o igual a 2000\n",
    "                if i >= 2000:\n",
    "                    # Obtiene los valores de la primera fila del DataFrame filtrado\n",
    "                    dato1 = df.iloc[0, 1]\n",
    "                    dato2 = df.iloc[0, 2]\n",
    "                    dato3 = df.iloc[0, 3]\n",
    "                    dato4 = df.iloc[0, 4]\n",
    "                    # Devuelve una cadena de texto con información sobre la película y sus valoraciones\n",
    "                    return f\"La película {dato1} fue estrenada en el año {dato4}. La misma cuenta con un total de {dato2} valoraciones, con un promedio de {dato3}\"\n",
    "                else:\n",
    "                    # Devuelve una cadena de texto indicando que la película no cuenta con más de 2000 votos\n",
    "                    return f\"Esta película no cumple con las condicion de tener al menos 2000 votos, por lo cual no se devuelve ningun valor\"\n",
    "    # Si el título de la película no se encuentra en la lista\n",
    "    else:\n",
    "        # Devuelve una cadena de texto indicando que no es una película de la lista\n",
    "        return f\"No es una película de esta lista\""
   ]
  },
  {
   "cell_type": "code",
   "execution_count": 14,
   "id": "fa6dac76-5cab-4d8f-bf8f-664ed3ae82b8",
   "metadata": {},
   "outputs": [
    {
     "data": {
      "text/plain": [
       "'La película Toy Story fue estrenada en el año 1995. La misma cuenta con un total de 5415.0 valoraciones, con un promedio de 7.7'"
      ]
     },
     "execution_count": 14,
     "metadata": {},
     "output_type": "execute_result"
    }
   ],
   "source": [
    "votos_titulo(\"toy story\")"
   ]
  },
  {
   "cell_type": "code",
   "execution_count": 11,
   "id": "e8194073-b7e8-4061-9ce7-f884df4b3d5f",
   "metadata": {},
   "outputs": [],
   "source": [
    "def get_actor(nombre_actor:str):\n",
    "    # Definición de la variable DOWNLOAD_ROOT que contiene la URL base\n",
    "    DOWNLOAD_ROOT = \"https://raw.githubusercontent.com/Andresma9601/Proyecto_ML_HENRY/main/\"\n",
    "    # Ruta relativa del archivo CSV\n",
    "    df_actor=\"db_movies/Actor.csv\"\n",
    "    # Combinar la URL base y la ruta relativa para obtener la URL completa del archivo CSV\n",
    "    csv_path=DOWNLOAD_ROOT + df_actor\n",
    "    # Leer el archivo CSV desde la URL completa utilizando la función read_csv de Pandas\n",
    "    df_actor=pd.read_csv(csv_path)\n",
    "    # Seleccionar las columnas \"cast_name\" y \"return\" del DataFrame movies_unique\n",
    "    df = df_actor[[\"cast_name\", \"return\"]]\n",
    "    # Buscar si el nombre del actor está presente en la columna \"cast_name\"\n",
    "    peliculas_participante = df[\"cast_name\"].str.contains(nombre_actor, case=False)\n",
    "    # Convertir el resultado de la búsqueda en un DataFrame\n",
    "    peliculas_participante = pd.DataFrame(peliculas_participante)\n",
    "    # Renombrar la columna \"cast_name\" del DataFrame peliculas_participante a \"bool\"\n",
    "    peliculas_participante = peliculas_participante.rename(columns={'cast_name': 'bool'})\n",
    "    # Concatenar el DataFrame peliculas_participante con el DataFrame original df\n",
    "    df2 = pd.concat([peliculas_participante, df], axis=1)\n",
    "    # Iterar sobre los valores de la columna \"bool\" en el DataFrame df2\n",
    "    for i in df2[\"bool\"]:\n",
    "        # Verificar si el valor es True\n",
    "        if i == True:\n",
    "            # Filtrar las filas del DataFrame df2 donde el valor de \"bool\" es True\n",
    "            peliculas_participante = df2.loc[df2[\"bool\"] == True]\n",
    "            # Calcular el total de películas en las que el actor ha participado\n",
    "            total_peliculas = sum(peliculas_participante[\"bool\"])\n",
    "            # Calcular el retorno total del actor\n",
    "            retorno = sum(peliculas_participante[\"return\"])\n",
    "            # Calcular el promedio de retorno por película\n",
    "            promedio = retorno / total_peliculas\n",
    "            # Devolver un mensaje con la información obtenida\n",
    "            return f\"El actor {nombre_actor.title()} ha participado de {total_peliculas} cantidad de filmaciones, el mismo ha conseguido un retorno de {retorno} con un promedio de {promedio} por filmación\"\n",
    "    # Si no se encuentra el nombre del actor en ninguna película\n",
    "    else:\n",
    "        # Devolver un mensaje indicando que el actor no participa en ninguna película\n",
    "        return f\"El actor no participa en ninguna pelicula\""
   ]
  },
  {
   "cell_type": "code",
   "execution_count": 15,
   "id": "6090a303-6393-47b5-b3a8-8487dfa5f992",
   "metadata": {},
   "outputs": [
    {
     "data": {
      "text/plain": [
       "'El actor Tom Holland ha participado de 45 cantidad de filmaciones, el mismo ha conseguido un retorno de 63.1732393607406 con un promedio de 1.4038497635720133 por filmación'"
      ]
     },
     "execution_count": 15,
     "metadata": {},
     "output_type": "execute_result"
    }
   ],
   "source": [
    "get_actor( \"tom holland\" )"
   ]
  },
  {
   "cell_type": "code",
   "execution_count": 12,
   "id": "6ebdef1d-c6a7-489e-8d5f-904021d331b8",
   "metadata": {},
   "outputs": [],
   "source": [
    "def get_director(nombre_director):\n",
    "    # Definición de la variable DOWNLOAD_ROOT que contiene la URL base\n",
    "    DOWNLOAD_ROOT = \"https://raw.githubusercontent.com/Andresma9601/Proyecto_ML_HENRY/main/\"\n",
    "    # Ruta relativa del archivo CSV\n",
    "    df_director=\"db_movies/Director.csv\"\n",
    "    # Combinar la URL base y la ruta relativa para obtener la URL completa del archivo CSV\n",
    "    csv_path=DOWNLOAD_ROOT + df_director\n",
    "    # Leer el archivo CSV desde la URL completa utilizando la función read_csv de Pandas\n",
    "    df_director=pd.read_csv(csv_path)\n",
    "    # Seleccionar las columnas relevantes del DataFrame movies_unique\n",
    "    df = df_director[[\"job\", \"crew_name\", \"release_date\", \"return\", \"revenue\", \"budget\", \"title\"]]\n",
    "    # Realizar una búsqueda para determinar si el nombre del director está presente en la columna \"crew_name\"\n",
    "    peliculas_director = df[\"crew_name\"].str.contains(nombre_director, case=False)\n",
    "    # Convertir el resultado de la búsqueda en un DataFrame\n",
    "    peliculas_director = pd.DataFrame(peliculas_director)\n",
    "    # Renombrar la columna \"crew_name\" del DataFrame peliculas_director a \"bool\"\n",
    "    peliculas_director = peliculas_director.rename(columns={'crew_name': 'bool'})\n",
    "    # Concatenar el DataFrame peliculas_director con el DataFrame original df\n",
    "    df2 = pd.concat([peliculas_director, df], axis=1)\n",
    "    # Iterar sobre los valores de la columna \"bool\" en el DataFrame df2\n",
    "    for i in df2[\"bool\"]:\n",
    "        # Verificar si el valor es True\n",
    "        if i == True:\n",
    "            # Filtrar las filas del DataFrame df2 donde el valor de \"bool\" es True\n",
    "            peliculas_director = df2.loc[df2[\"bool\"] == True]\n",
    "            # Seleccionar las columnas \"title\", \"return\", \"revenue\" y \"budget\" en el DataFrame resultante peliculas_director\n",
    "            peliculas_director = peliculas_director[[\"title\", \"return\", \"revenue\", \"budget\"]]\n",
    "            list_peliculas=[]\n",
    "            cont_peliculas=0\n",
    "            while cont_peliculas < len(peliculas_director):\n",
    "                movie = peliculas_director.iloc[cont_peliculas, 0]\n",
    "                retorno = peliculas_director.iloc[cont_peliculas, 1]\n",
    "                revenue=peliculas_director.iloc[cont_peliculas, 2]\n",
    "                budget=peliculas_director.iloc[cont_peliculas, 3]\n",
    "                list_peliculas.append(f\"El director {nombre_director.title()} dirigio la siguiente pelicula {movie}, con un retorno de {retorno}, una ganancia de {revenue} y un presupuesto de {budget}\")\n",
    "                cont_peliculas+=1\n",
    "            return list_peliculas\n",
    "    else:\n",
    "        # Si no se encuentra ninguna coincidencia, devolver un mensaje indicando que el director no ha dirigido ninguna película de la lista\n",
    "        return f\"Este director no ha dirigido ninguna de las películas de la lista\"            "
   ]
  },
  {
   "cell_type": "code",
   "execution_count": 13,
   "id": "b2468e0c-e910-4981-b035-cc23f647f0bf",
   "metadata": {},
   "outputs": [
    {
     "data": {
      "text/plain": [
       "['El director John Lasseter dirigio la siguiente pelicula Toy Story, con un retorno de 12.4518011, una ganancia de 373554033.0 y un presupuesto de 30000000.0',\n",
       " 'El director John Lasseter dirigio la siguiente pelicula Beauty and the Beast, con un retorno de 15.09402212, una ganancia de 377350553.0 y un presupuesto de 25000000.0',\n",
       " \"El director John Lasseter dirigio la siguiente pelicula A Bug's Life, con un retorno de 3.027157158333333, una ganancia de 363258859.0 y un presupuesto de 120000000.0\",\n",
       " 'El director John Lasseter dirigio la siguiente pelicula Toy Story 2, con un retorno de 5.526298544444445, una ganancia de 497366869.0 y un presupuesto de 90000000.0',\n",
       " 'El director John Lasseter dirigio la siguiente pelicula Monsters, Inc., con un retorno de 4.8940544, una ganancia de 562816256.0 y un presupuesto de 115000000.0',\n",
       " 'El director John Lasseter dirigio la siguiente pelicula Finding Nemo, con un retorno de 10.003569531914891, una ganancia de 940335536.0 y un presupuesto de 94000000.0',\n",
       " 'El director John Lasseter dirigio la siguiente pelicula The Incredibles, con un retorno de 6.863501, una ganancia de 631442092.0 y un presupuesto de 92000000.0',\n",
       " \"El director John Lasseter dirigio la siguiente pelicula Howl's Moving Castle, con un retorno de 9.779602291666668, una ganancia de 234710455.0 y un presupuesto de 24000000.0\",\n",
       " 'El director John Lasseter dirigio la siguiente pelicula Luxo Jr., con un retorno de 0.0, una ganancia de 0.0 y un presupuesto de 0.0',\n",
       " 'El director John Lasseter dirigio la siguiente pelicula Cars, con un retorno de 3.849859575, una ganancia de 461983149.0 y un presupuesto de 120000000.0',\n",
       " 'El director John Lasseter dirigio la siguiente pelicula Ratatouille, con un retorno de 4.15815212, una ganancia de 623722818.0 y un presupuesto de 150000000.0',\n",
       " 'El director John Lasseter dirigio la siguiente pelicula WALL·E, con un retorno de 2.896177, una ganancia de 521311860.0 y un presupuesto de 180000000.0',\n",
       " 'El director John Lasseter dirigio la siguiente pelicula Bolt, con un retorno de 2.0665332933333334, una ganancia de 309979994.0 y un presupuesto de 150000000.0',\n",
       " 'El director John Lasseter dirigio la siguiente pelicula Up, con un retorno de 4.200566182857143, una ganancia de 735099082.0 y un presupuesto de 175000000.0',\n",
       " 'El director John Lasseter dirigio la siguiente pelicula Partly Cloudy, con un retorno de 0.0, una ganancia de 0.0 y un presupuesto de 0.0',\n",
       " 'El director John Lasseter dirigio la siguiente pelicula The Princess and the Frog, con un retorno de 2.543293, una ganancia de 267045765.0 y un presupuesto de 105000000.0',\n",
       " 'El director John Lasseter dirigio la siguiente pelicula Toy Story 3, con un retorno de 5.334848515, una ganancia de 1066969703.0 y un presupuesto de 200000000.0',\n",
       " 'El director John Lasseter dirigio la siguiente pelicula Tangled, con un retorno de 2.2761343692307694, una ganancia de 591794936.0 y un presupuesto de 260000000.0',\n",
       " 'El director John Lasseter dirigio la siguiente pelicula Cars 2, con un retorno de 2.79926198, una ganancia de 559852396.0 y un presupuesto de 200000000.0',\n",
       " 'El director John Lasseter dirigio la siguiente pelicula John Carter, con un retorno de 1.0928426923076924, una ganancia de 284139100.0 y un presupuesto de 260000000.0',\n",
       " 'El director John Lasseter dirigio la siguiente pelicula The Ballad of Nessie, con un retorno de 0.0, una ganancia de 0.0 y un presupuesto de 0.0',\n",
       " 'El director John Lasseter dirigio la siguiente pelicula Presto, con un retorno de 0.0, una ganancia de 0.0 y un presupuesto de 0.0',\n",
       " 'El director John Lasseter dirigio la siguiente pelicula Jack-Jack Attack, con un retorno de 0.0, una ganancia de 0.0 y un presupuesto de 0.0',\n",
       " 'El director John Lasseter dirigio la siguiente pelicula One Man Band, con un retorno de 0.0, una ganancia de 0.0 y un presupuesto de 0.0',\n",
       " 'El director John Lasseter dirigio la siguiente pelicula Tin Toy, con un retorno de 0.0, una ganancia de 0.0 y un presupuesto de 0.0',\n",
       " \"El director John Lasseter dirigio la siguiente pelicula Red's Dream, con un retorno de 0.0, una ganancia de 0.0 y un presupuesto de 0.0\",\n",
       " \"El director John Lasseter dirigio la siguiente pelicula Geri's Game, con un retorno de 0.0, una ganancia de 0.0 y un presupuesto de 0.0\",\n",
       " 'El director John Lasseter dirigio la siguiente pelicula Knick Knack, con un retorno de 0.0, una ganancia de 0.0 y un presupuesto de 0.0',\n",
       " 'El director John Lasseter dirigio la siguiente pelicula Wreck-It Ralph, con un retorno de 2.855896296969697, una ganancia de 471222889.0 y un presupuesto de 165000000.0',\n",
       " 'El director John Lasseter dirigio la siguiente pelicula Paperman, con un retorno de 0.0, una ganancia de 0.0 y un presupuesto de 0.0',\n",
       " 'El director John Lasseter dirigio la siguiente pelicula Monsters University, con un retorno de 3.717798035, una ganancia de 743559607.0 y un presupuesto de 200000000.0',\n",
       " 'El director John Lasseter dirigio la siguiente pelicula Toy Story of Terror!, con un retorno de 0.0, una ganancia de 0.0 y un presupuesto de 0.0',\n",
       " 'El director John Lasseter dirigio la siguiente pelicula Frozen, con un retorno de 8.494793393333333, una ganancia de 1274219009.0 y un presupuesto de 150000000.0',\n",
       " 'El director John Lasseter dirigio la siguiente pelicula La luna, con un retorno de 0.0, una ganancia de 0.0 y un presupuesto de 0.0',\n",
       " 'El director John Lasseter dirigio la siguiente pelicula Mater and the Ghostlight, con un retorno de 0.0, una ganancia de 0.0 y un presupuesto de 0.0',\n",
       " 'El director John Lasseter dirigio la siguiente pelicula Tangled Ever After, con un retorno de 0.0, una ganancia de 0.0 y un presupuesto de 0.0',\n",
       " 'El director John Lasseter dirigio la siguiente pelicula Planes: Fire & Rescue, con un retorno de 3.02331574, una ganancia de 151165787.0 y un presupuesto de 50000000.0',\n",
       " 'El director John Lasseter dirigio la siguiente pelicula Big Hero 6, con un retorno de 3.9521542, una ganancia de 652105443.0 y un presupuesto de 165000000.0',\n",
       " 'El director John Lasseter dirigio la siguiente pelicula Small Fry, con un retorno de 0.0, una ganancia de 0.0 y un presupuesto de 0.0',\n",
       " 'El director John Lasseter dirigio la siguiente pelicula Secret of the Wings, con un retorno de 0.0, una ganancia de 0.0 y un presupuesto de 0.0',\n",
       " 'El director John Lasseter dirigio la siguiente pelicula Tinker Bell and the Lost Treasure, con un retorno de 0.0, una ganancia de 0.0 y un presupuesto de 0.0',\n",
       " 'El director John Lasseter dirigio la siguiente pelicula Partysaurus Rex, con un retorno de 0.0, una ganancia de 0.0 y un presupuesto de 0.0',\n",
       " \"El director John Lasseter dirigio la siguiente pelicula The Legend of Mor'du, con un retorno de 0.0, una ganancia de 0.0 y un presupuesto de 0.0\",\n",
       " 'El director John Lasseter dirigio la siguiente pelicula Get a Horse!, con un retorno de 0.0, una ganancia de 0.0 y un presupuesto de 0.0',\n",
       " 'El director John Lasseter dirigio la siguiente pelicula Frozen Fever, con un retorno de 0.0, una ganancia de 0.0 y un presupuesto de 0.0',\n",
       " 'El director John Lasseter dirigio la siguiente pelicula Tinker Bell and the Legend of the NeverBeast, con un retorno de 0.0, una ganancia de 0.0 y un presupuesto de 0.0',\n",
       " 'El director John Lasseter dirigio la siguiente pelicula Tinker Bell and the Pirate Fairy, con un retorno de 0.0, una ganancia de 20300000.0 y un presupuesto de 0.0',\n",
       " 'El director John Lasseter dirigio la siguiente pelicula Tinker Bell and the Great Fairy Rescue, con un retorno de 0.0, una ganancia de 0.0 y un presupuesto de 0.0',\n",
       " 'El director John Lasseter dirigio la siguiente pelicula Tinker Bell, con un retorno de 0.0, una ganancia de 0.0 y un presupuesto de 48000000.0',\n",
       " 'El director John Lasseter dirigio la siguiente pelicula Inside Out, con un retorno de 4.90063528, una ganancia de 857611174.0 y un presupuesto de 175000000.0',\n",
       " 'El director John Lasseter dirigio la siguiente pelicula The Good Dinosaur, con un retorno de 1.89672084, una ganancia de 331926147.0 y un presupuesto de 175000000.0',\n",
       " 'El director John Lasseter dirigio la siguiente pelicula Prep & Landing, con un retorno de 0.0, una ganancia de 0.0 y un presupuesto de 0.0',\n",
       " 'El director John Lasseter dirigio la siguiente pelicula Feast, con un retorno de 0.0, una ganancia de 0.0 y un presupuesto de 0.0',\n",
       " 'El director John Lasseter dirigio la siguiente pelicula Lava, con un retorno de 0.0, una ganancia de 0.0 y un presupuesto de 0.0',\n",
       " \"El director John Lasseter dirigio la siguiente pelicula Sanjay's Super Team, con un retorno de 0.0, una ganancia de 0.0 y un presupuesto de 0.0\",\n",
       " 'El director John Lasseter dirigio la siguiente pelicula Zootopia, con un retorno de 6.825227966666667, una ganancia de 1023784195.0 y un presupuesto de 150000000.0',\n",
       " 'El director John Lasseter dirigio la siguiente pelicula Finding Dory, con un retorno de 5.142854445, una ganancia de 1028570889.0 y un presupuesto de 200000000.0',\n",
       " 'El director John Lasseter dirigio la siguiente pelicula Piper, con un retorno de 0.0, una ganancia de 0.0 y un presupuesto de 0.0',\n",
       " 'El director John Lasseter dirigio la siguiente pelicula How to Hook Up Your Home Theater, con un retorno de 0.0, una ganancia de 0.0 y un presupuesto de 0.0',\n",
       " 'El director John Lasseter dirigio la siguiente pelicula Tick Tock Tale, con un retorno de 0.0, una ganancia de 0.0 y un presupuesto de 0.0',\n",
       " 'El director John Lasseter dirigio la siguiente pelicula Air Mater, con un retorno de 0.0, una ganancia de 0.0 y un presupuesto de 0.0',\n",
       " \"El director John Lasseter dirigio la siguiente pelicula Riley's First Date?, con un retorno de 0.0, una ganancia de 0.0 y un presupuesto de 0.0\",\n",
       " 'El director John Lasseter dirigio la siguiente pelicula Moana, con un retorno de 4.28689644, una ganancia de 643034466.0 y un presupuesto de 150000000.0',\n",
       " 'El director John Lasseter dirigio la siguiente pelicula Inner Workings, con un retorno de 0.0, una ganancia de 0.0 y un presupuesto de 0.0',\n",
       " 'El director John Lasseter dirigio la siguiente pelicula Cars 3, con un retorno de 2.000971754285714, una ganancia de 350170057.0 y un presupuesto de 175000000.0']"
      ]
     },
     "execution_count": 13,
     "metadata": {},
     "output_type": "execute_result"
    }
   ],
   "source": [
    "get_director( \"john lasseter\" )"
   ]
  },
  {
   "cell_type": "code",
   "execution_count": null,
   "id": "5345cfb7-1a8b-42de-95b4-03fa86cc332b",
   "metadata": {},
   "outputs": [],
   "source": []
  }
 ],
 "metadata": {
  "kernelspec": {
   "display_name": "Python 3 (ipykernel)",
   "language": "python",
   "name": "python3"
  },
  "language_info": {
   "codemirror_mode": {
    "name": "ipython",
    "version": 3
   },
   "file_extension": ".py",
   "mimetype": "text/x-python",
   "name": "python",
   "nbconvert_exporter": "python",
   "pygments_lexer": "ipython3",
   "version": "3.9.12"
  }
 },
 "nbformat": 4,
 "nbformat_minor": 5
}
